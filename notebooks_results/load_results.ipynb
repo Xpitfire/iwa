{
 "cells": [
  {
   "cell_type": "code",
   "execution_count": null,
   "metadata": {},
   "outputs": [],
   "source": [
    "%load_ext autoreload\n",
    "%autoreload 2\n",
    "from typing import List\n",
    "import sys\n",
    "sys.path.append('..')\n",
    "from pathlib import Path\n",
    "from string import Template\n",
    "import pandas as pd\n",
    "import numpy as np\n",
    "from misc.analyses import load_results_table, create_results_table, load_results_table_for_dataset, prepare_dataset_results_df_for_paper\n",
    "from viz.plot import plot_lambdas_and_ensemble_methods_vs_accuracy\n",
    "from approaches.ensemble_trainer import EnsembleTrainer"
   ]
  },
  {
   "cell_type": "markdown",
   "metadata": {},
   "source": [
    "Use this notebook to load the results in a table"
   ]
  },
  {
   "cell_type": "code",
   "execution_count": null,
   "metadata": {},
   "outputs": [],
   "source": [
    "# specify the result directory for the datasets\n",
    "res_dirs = ['results/BP/MOONS/',\n",
    "'results/BP/MINI_DOMAIN_NET/',\n",
    "'results/BP4k0.1/AMAZON_REVIEWS/',\n",
    "'results/IWV_Domain_Classifier/ADATIME/EEG/',\n",
    "'results/IWV_Domain_Classifier/ADATIME/HHAR_SA/',\n",
    "'results/IWV_Domain_Classifier/ADATIME/HAR/',\n",
    "'results/IWV_Domain_Classifier/ADATIME/WISDM/']"
   ]
  },
  {
   "cell_type": "code",
   "execution_count": null,
   "metadata": {},
   "outputs": [],
   "source": [
    "# create result tables\n",
    "base_dir = res_dirs[2]\n",
    "dsr_df = load_results_table_for_dataset(base_dir)\n",
    "mean_df, std_df = prepare_dataset_results_df_for_paper(dsr_df)"
   ]
  },
  {
   "cell_type": "code",
   "execution_count": null,
   "metadata": {},
   "outputs": [],
   "source": [
    "display(dsr_df)"
   ]
  },
  {
   "cell_type": "code",
   "execution_count": null,
   "metadata": {},
   "outputs": [],
   "source": [
    "display(mean_df)"
   ]
  }
 ],
 "metadata": {
  "interpreter": {
   "hash": "d516b6dfc67a13dc7935abd167b5fff5a0712de0723fbeca7c4eccb8b43d9ed2"
  },
  "kernelspec": {
   "display_name": "Python 3.8.8 ('bpda')",
   "language": "python",
   "name": "python3"
  },
  "language_info": {
   "codemirror_mode": {
    "name": "ipython",
    "version": 3
   },
   "file_extension": ".py",
   "mimetype": "text/x-python",
   "name": "python",
   "nbconvert_exporter": "python",
   "pygments_lexer": "ipython3",
   "version": "3.8.8"
  },
  "orig_nbformat": 4
 },
 "nbformat": 4,
 "nbformat_minor": 2
}
